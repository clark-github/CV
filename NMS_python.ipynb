{
 "cells": [
  {
   "cell_type": "code",
   "execution_count": 12,
   "metadata": {},
   "outputs": [
    {
     "ename": "UnboundLocalError",
     "evalue": "local variable 'IOU' referenced before assignment",
     "output_type": "error",
     "traceback": [
      "\u001b[1;31m---------------------------------------------------------------------------\u001b[0m",
      "\u001b[1;31mUnboundLocalError\u001b[0m                         Traceback (most recent call last)",
      "\u001b[1;32m<ipython-input-12-05f21f00e33b>\u001b[0m in \u001b[0;36m<module>\u001b[1;34m\u001b[0m\n\u001b[0;32m     36\u001b[0m \u001b[0mdets\u001b[0m\u001b[1;33m=\u001b[0m\u001b[0mnp\u001b[0m\u001b[1;33m.\u001b[0m\u001b[0marray\u001b[0m\u001b[1;33m(\u001b[0m\u001b[1;33m[\u001b[0m\u001b[1;33m[\u001b[0m\u001b[1;36m30\u001b[0m\u001b[1;33m,\u001b[0m \u001b[1;36m230\u001b[0m\u001b[1;33m,\u001b[0m \u001b[1;36m20\u001b[0m\u001b[1;33m,\u001b[0m \u001b[1;36m200\u001b[0m\u001b[1;33m,\u001b[0m \u001b[1;36m1\u001b[0m\u001b[1;33m]\u001b[0m\u001b[1;33m,\u001b[0m\u001b[1;33m[\u001b[0m\u001b[1;36m50\u001b[0m\u001b[1;33m,\u001b[0m \u001b[1;36m260\u001b[0m\u001b[1;33m,\u001b[0m \u001b[1;36m50\u001b[0m\u001b[1;33m,\u001b[0m \u001b[1;36m220\u001b[0m\u001b[1;33m,\u001b[0m \u001b[1;36m0.9\u001b[0m\u001b[1;33m]\u001b[0m\u001b[1;33m,\u001b[0m\u001b[1;33m[\u001b[0m\u001b[1;36m210\u001b[0m\u001b[1;33m,\u001b[0m \u001b[1;36m420\u001b[0m\u001b[1;33m,\u001b[0m \u001b[1;36m30\u001b[0m\u001b[1;33m,\u001b[0m \u001b[1;36m5\u001b[0m\u001b[1;33m,\u001b[0m \u001b[1;36m0.8\u001b[0m\u001b[1;33m]\u001b[0m\u001b[1;33m,\u001b[0m\u001b[1;33m[\u001b[0m\u001b[1;36m430\u001b[0m\u001b[1;33m,\u001b[0m \u001b[1;36m460\u001b[0m\u001b[1;33m,\u001b[0m \u001b[1;36m280\u001b[0m\u001b[1;33m,\u001b[0m \u001b[1;36m360\u001b[0m\u001b[1;33m,\u001b[0m \u001b[1;36m0.7\u001b[0m\u001b[1;33m]\u001b[0m\u001b[1;33m]\u001b[0m\u001b[1;33m)\u001b[0m\u001b[1;33m\u001b[0m\u001b[1;33m\u001b[0m\u001b[0m\n\u001b[0;32m     37\u001b[0m \u001b[1;31m#print(type(lists))\u001b[0m\u001b[1;33m\u001b[0m\u001b[1;33m\u001b[0m\u001b[1;33m\u001b[0m\u001b[0m\n\u001b[1;32m---> 38\u001b[1;33m \u001b[0mkeep_bbox\u001b[0m\u001b[1;33m=\u001b[0m\u001b[0mNMS\u001b[0m\u001b[1;33m(\u001b[0m\u001b[0mdets\u001b[0m\u001b[1;33m,\u001b[0m\u001b[1;36m0.35\u001b[0m\u001b[1;33m)\u001b[0m\u001b[1;33m\u001b[0m\u001b[1;33m\u001b[0m\u001b[0m\n\u001b[0m",
      "\u001b[1;32m<ipython-input-12-05f21f00e33b>\u001b[0m in \u001b[0;36mNMS\u001b[1;34m(lists, thre)\u001b[0m\n\u001b[0;32m     29\u001b[0m \u001b[1;33m\u001b[0m\u001b[0m\n\u001b[0;32m     30\u001b[0m         \u001b[0mintersect_area\u001b[0m\u001b[1;33m=\u001b[0m\u001b[0minter_w\u001b[0m\u001b[1;33m*\u001b[0m\u001b[0minter_h\u001b[0m\u001b[1;33m\u001b[0m\u001b[1;33m\u001b[0m\u001b[0m\n\u001b[1;32m---> 31\u001b[1;33m         \u001b[0mIOU\u001b[0m\u001b[1;33m=\u001b[0m\u001b[0mintersect_area\u001b[0m\u001b[1;33m/\u001b[0m\u001b[1;33m(\u001b[0m\u001b[0marea\u001b[0m\u001b[1;33m[\u001b[0m\u001b[0mi\u001b[0m\u001b[1;33m]\u001b[0m\u001b[1;33m+\u001b[0m\u001b[0marea\u001b[0m\u001b[1;33m[\u001b[0m\u001b[0msort_id_list\u001b[0m\u001b[1;33m[\u001b[0m\u001b[1;36m1\u001b[0m\u001b[1;33m:\u001b[0m\u001b[1;33m]\u001b[0m\u001b[1;33m]\u001b[0m\u001b[1;33m-\u001b[0m\u001b[0mIOU\u001b[0m\u001b[1;33m)\u001b[0m\u001b[1;33m\u001b[0m\u001b[1;33m\u001b[0m\u001b[0m\n\u001b[0m\u001b[0;32m     32\u001b[0m         \u001b[1;32mfor\u001b[0m \u001b[0mi\u001b[0m \u001b[1;32min\u001b[0m \u001b[0mreversed\u001b[0m\u001b[1;33m(\u001b[0m\u001b[0mrange\u001b[0m\u001b[1;33m(\u001b[0m\u001b[0mlen\u001b[0m\u001b[1;33m(\u001b[0m\u001b[0msort_id_list\u001b[0m\u001b[1;33m)\u001b[0m\u001b[1;33m)\u001b[0m\u001b[1;33m)\u001b[0m\u001b[1;33m:\u001b[0m\u001b[1;33m\u001b[0m\u001b[1;33m\u001b[0m\u001b[0m\n\u001b[0;32m     33\u001b[0m             \u001b[0mIOU\u001b[0m\u001b[1;33m[\u001b[0m\u001b[0mi\u001b[0m\u001b[1;33m]\u001b[0m\u001b[1;33m<\u001b[0m\u001b[0mthre\u001b[0m\u001b[1;33m\u001b[0m\u001b[1;33m\u001b[0m\u001b[0m\n",
      "\u001b[1;31mUnboundLocalError\u001b[0m: local variable 'IOU' referenced before assignment"
     ]
    }
   ],
   "source": [
    "import numpy as np\n",
    "def NMS(lists,thre):\n",
    "    x1=lists[:,0]\n",
    "    y1=lists[:,1]\n",
    "    x2=lists[:,2]\n",
    "    y2=lists[:,3]\n",
    "    score=lists[:,4]\n",
    "    sort_id_list=score.argsort()[::-1].tolist()\n",
    "    keep=[]\n",
    "    #iou=[]\n",
    "    area=(x2-x1+1)*(y2-y1+1)\n",
    "    while len(sort_id_list)>=1:\n",
    "        # pop 每次为循环中score最大的那个list\n",
    "        i=sort_id_list.pop(0)\n",
    "        keep.append([x1[i],y1[i],x2[i],y2[i],score[i]])\n",
    "        # 计算i 与剩余所有框之间的交叉面积，首先确定交叉点的坐标\n",
    "        \n",
    "        #注意这里是按照sort_id_list中的顺序逐个比较，返回的值为相同index的bbox与bbox[i]的比较结果\n",
    "        #最左上角的为xx1,yy1，取bbox[i]和其他bbox比的最大值\n",
    "        #最右下角的为xx2,yy2，取bbox[i]和其他bbox比的最小值\n",
    "        #这里计算了bbox[i]与其他所有bbox之间的inersect_area\n",
    "        xx1=np.maximum(x1[i],x1[sort_id_list[1:]])\n",
    "        yy1=np.maximum(y1[i],y1[sort_id_list[1:]])\n",
    "        xx2=np.minimum(x2[i],x2[sort_id_list[1:]])\n",
    "        yy2=np.minimum(y2[i],y2[sort_id_list[1:]])\n",
    "        \n",
    "        inter_w=np.maximum(0,xx2-xx1)\n",
    "        inter_h=np.maximum(0,yy2-yy1)\n",
    "\n",
    "        intersect_area=inter_w*inter_h\n",
    "        IOU=intersect_area/(area[i]+area[sort_id_list[1:]]-IOU) \n",
    "        for i in reversed(range(len(sort_id_list))):\n",
    "            IOU[i]<thre\n",
    "            sort_id_list.pop(i)\n",
    "    return keep\n",
    "dets=np.array([[30, 230, 20, 200, 1],[50, 260, 50, 220, 0.9],[210, 420, 30, 5, 0.8],[430, 460, 280, 360, 0.7]])\n",
    "#print(type(lists))\n",
    "keep_bbox=NMS(dets,0.35)"
   ]
  },
  {
   "cell_type": "code",
   "execution_count": 16,
   "metadata": {},
   "outputs": [
    {
     "name": "stdout",
     "output_type": "stream",
     "text": [
      "[103.  80. 103.]\n",
      "[[255.0, 118.0, 360.0, 235.0, 0.7]]\n"
     ]
    }
   ],
   "source": [
    "import numpy as np\n",
    " \n",
    " \n",
    "def nms(dets, thresh):\n",
    "  x1 = dets[:, 0]\n",
    "  y1 = dets[:, 1]\n",
    "  x2 = dets[:, 2]\n",
    "  y2 = dets[:, 3]\n",
    "  score = dets[:, 4]\n",
    "  \n",
    "  sort_id_list = score.argsort()[::-1].tolist()\n",
    "  res = []\n",
    "  while len(sort_id_list) >= 1:\n",
    "    i = sort_id_list.pop(0)\n",
    "    res.append([x1[i], y1[i], x2[i], y2[i], score[i]])\n",
    "    \n",
    "    #intersect area left top point(xx1, yy1): xx1 >= x1, yy1 >= y1\n",
    "    #intersect area right down point(xx2, yy2): xx2 <= x2, yy2 <= y2\n",
    "    \n",
    "    xx1 = np.maximum(x1[i], x1[sort_id_list[:]])\n",
    "    yy1 = np.maximum(y1[i], y1[sort_id_list[:]])\n",
    "    xx2 = np.minimum(x2[i], x2[sort_id_list[:]])\n",
    "    yy2 = np.minimum(y2[i], y2[sort_id_list[:]])\n",
    " \n",
    "    inter_w = np.maximum(0, (xx2 - xx1))\n",
    "    inter_h = np.maximum(0, (yy2 - yy1))\n",
    "    intersect = inter_w * inter_h\n",
    "    print(inter_w)\n",
    "    #iou = intersect area / union; union = box1 + box2 - intersect\n",
    "    iou = intersect / ((x2[i] - x1[i]) * (y2[i] - y1[i]) +\\\n",
    "    (x2[sort_id_list[:]] - x1[sort_id_list[:]]) * (y2[sort_id_list[:]] - y1[sort_id_list[:]]) -\\\n",
    "    intersect)\n",
    "    for i in reversed(range(len(sort_id_list))):\n",
    "      if iou[i] > thresh:\n",
    "        sort_id_list.pop(i)\n",
    " \n",
    "  return res\n",
    "      \n",
    " \n",
    " \n",
    " \n",
    " \n",
    "if __name__ == \"__main__\":\n",
    "  \n",
    "  dets = np.array([\n",
    "                  [204, 102, 358, 250, 0.5],\n",
    "                  [257, 118, 380, 250, 0.7],\n",
    "                  [280, 135, 400, 250, 0.6],\n",
    "                  [255, 118, 360, 235, 0.7]\n",
    "                  ])\n",
    " \n",
    " \n",
    "  thresh = 0.3\n",
    "  res = nms(dets, thresh)\n",
    "  print(res)\n"
   ]
  },
  {
   "cell_type": "code",
   "execution_count": null,
   "metadata": {},
   "outputs": [],
   "source": []
  }
 ],
 "metadata": {
  "kernelspec": {
   "display_name": "Python 3",
   "language": "python",
   "name": "python3"
  },
  "language_info": {
   "codemirror_mode": {
    "name": "ipython",
    "version": 3
   },
   "file_extension": ".py",
   "mimetype": "text/x-python",
   "name": "python",
   "nbconvert_exporter": "python",
   "pygments_lexer": "ipython3",
   "version": "3.7.6"
  }
 },
 "nbformat": 4,
 "nbformat_minor": 2
}
